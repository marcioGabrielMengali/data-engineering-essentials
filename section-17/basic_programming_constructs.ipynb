{
 "cells": [
  {
   "cell_type": "markdown",
   "id": "ccb0e497",
   "metadata": {},
   "source": [
    "# HELP"
   ]
  },
  {
   "cell_type": "code",
   "execution_count": 6,
   "id": "a0b0a84e",
   "metadata": {},
   "outputs": [
    {
     "name": "stdout",
     "output_type": "stream",
     "text": [
      "Help on method_descriptor:\n",
      "\n",
      "split(self, /, sep=None, maxsplit=-1)\n",
      "    Return a list of the words in the string, using sep as the delimiter string.\n",
      "    \n",
      "    sep\n",
      "      The delimiter according which to split the string.\n",
      "      None (the default value) means split according to any whitespace,\n",
      "      and discard empty strings from the result.\n",
      "    maxsplit\n",
      "      Maximum number of splits to do.\n",
      "      -1 (the default value) means no limit.\n",
      "\n"
     ]
    }
   ],
   "source": [
    "help(str.split)"
   ]
  },
  {
   "cell_type": "code",
   "execution_count": 7,
   "id": "1191c08f",
   "metadata": {},
   "outputs": [],
   "source": [
    "#str.lstrip?"
   ]
  },
  {
   "cell_type": "markdown",
   "id": "55014fac",
   "metadata": {},
   "source": [
    "# VARIABLES AND ONJECTS"
   ]
  },
  {
   "cell_type": "code",
   "execution_count": 8,
   "id": "0371d08f",
   "metadata": {},
   "outputs": [],
   "source": [
    "i = 10"
   ]
  },
  {
   "cell_type": "code",
   "execution_count": 9,
   "id": "01165d67",
   "metadata": {},
   "outputs": [
    {
     "data": {
      "text/plain": [
       "int"
      ]
     },
     "execution_count": 9,
     "metadata": {},
     "output_type": "execute_result"
    }
   ],
   "source": [
    "type(i)"
   ]
  },
  {
   "cell_type": "code",
   "execution_count": 10,
   "id": "01701e2b",
   "metadata": {},
   "outputs": [
    {
     "data": {
      "text/plain": [
       "True"
      ]
     },
     "execution_count": 10,
     "metadata": {},
     "output_type": "execute_result"
    }
   ],
   "source": [
    "type(i) == int"
   ]
  },
  {
   "cell_type": "markdown",
   "id": "7058073d",
   "metadata": {},
   "source": [
    "# CONDITIONALS"
   ]
  },
  {
   "cell_type": "code",
   "execution_count": 12,
   "id": "cc6d7446",
   "metadata": {},
   "outputs": [],
   "source": [
    "i = 5"
   ]
  },
  {
   "cell_type": "code",
   "execution_count": 13,
   "id": "0a481135",
   "metadata": {},
   "outputs": [
    {
     "name": "stdout",
     "output_type": "stream",
     "text": [
      "odd\n"
     ]
    }
   ],
   "source": [
    "if i%2 == 0:\n",
    "    print('even')\n",
    "else:\n",
    "    print('odd')"
   ]
  },
  {
   "cell_type": "code",
   "execution_count": 14,
   "id": "8f798ddc",
   "metadata": {},
   "outputs": [
    {
     "name": "stdout",
     "output_type": "stream",
     "text": [
      "odd\n"
     ]
    }
   ],
   "source": [
    "#Ternary Operator\n",
    "print('even') if i%2 == 0 else print('odd')"
   ]
  },
  {
   "cell_type": "code",
   "execution_count": 29,
   "id": "7efe769a",
   "metadata": {},
   "outputs": [
    {
     "name": "stdout",
     "output_type": "stream",
     "text": [
      "Enter a integer: 5\n"
     ]
    }
   ],
   "source": [
    "i  = int(input('Enter a integer: '))"
   ]
  },
  {
   "cell_type": "code",
   "execution_count": 30,
   "id": "35950845",
   "metadata": {},
   "outputs": [
    {
     "name": "stdout",
     "output_type": "stream",
     "text": [
      "odd 5\n"
     ]
    }
   ],
   "source": [
    "if i == 0:\n",
    "    print('Zero')\n",
    "elif i%2 == 0:\n",
    "    print(f'even {i}')\n",
    "else:\n",
    "    print(f'odd {i}')"
   ]
  },
  {
   "cell_type": "code",
   "execution_count": 32,
   "id": "ccead1cd",
   "metadata": {},
   "outputs": [
    {
     "name": "stdout",
     "output_type": "stream",
     "text": [
      "None\n"
     ]
    }
   ],
   "source": [
    "n = None\n",
    "print('Not None') if n else print(n)"
   ]
  },
  {
   "cell_type": "markdown",
   "id": "06c9b208",
   "metadata": {},
   "source": [
    "## TASK 1"
   ]
  },
  {
   "cell_type": "code",
   "execution_count": 33,
   "id": "e589a8ec",
   "metadata": {},
   "outputs": [
    {
     "name": "stdout",
     "output_type": "stream",
     "text": [
      "Enter age in months: 8\n"
     ]
    }
   ],
   "source": [
    "age = int(input('Enter age in months: '))"
   ]
  },
  {
   "cell_type": "code",
   "execution_count": 34,
   "id": "1357be89",
   "metadata": {},
   "outputs": [
    {
     "name": "stdout",
     "output_type": "stream",
     "text": [
      "Toddler\n"
     ]
    }
   ],
   "source": [
    "if age <= 6:\n",
    "    print('New Born or Infant')\n",
    "elif age > 6 and age <= 18:\n",
    "    print('Toddler')\n",
    "elif age > 18 and age <= 144:\n",
    "    print('Grown up')\n",
    "elif age > 144 and age <= 216:\n",
    "    print('Youth')\n",
    "else:\n",
    "    print('Adult')"
   ]
  },
  {
   "cell_type": "markdown",
   "id": "e87cf3ac",
   "metadata": {},
   "source": [
    "# TASK 2"
   ]
  },
  {
   "cell_type": "code",
   "execution_count": 35,
   "id": "a12ae624",
   "metadata": {},
   "outputs": [
    {
     "name": "stdout",
     "output_type": "stream",
     "text": [
      "Enter integer: 10\n"
     ]
    }
   ],
   "source": [
    "n = int(input('Enter integer: '))"
   ]
  },
  {
   "cell_type": "code",
   "execution_count": 36,
   "id": "3ca71c0a",
   "metadata": {},
   "outputs": [
    {
     "name": "stdout",
     "output_type": "stream",
     "text": [
      "Number 10 is even or divisible by 3\n"
     ]
    }
   ],
   "source": [
    "if n % 2 == 0 or n % 3 == 0:\n",
    "    print(f'Number {n} is even or divisible by 3')"
   ]
  },
  {
   "cell_type": "markdown",
   "id": "2b54e69a",
   "metadata": {},
   "source": [
    "# TASK 3"
   ]
  },
  {
   "cell_type": "code",
   "execution_count": 37,
   "id": "c1344821",
   "metadata": {},
   "outputs": [
    {
     "name": "stdout",
     "output_type": "stream",
     "text": [
      "Enter integer: 8\n"
     ]
    }
   ],
   "source": [
    "n = int(input('Enter integer: '))"
   ]
  },
  {
   "cell_type": "code",
   "execution_count": 38,
   "id": "ddc47eee",
   "metadata": {},
   "outputs": [
    {
     "name": "stdout",
     "output_type": "stream",
     "text": [
      "Number 8 is even but not divisible by 3\n"
     ]
    }
   ],
   "source": [
    "if n % 2 == 0 and n % 3 == 0:\n",
    "    print(f'Number {n} is even and divisible by 3')\n",
    "elif n % 3 == 0:\n",
    "    print(f'Number {n} is divisible by 3 but not even')\n",
    "elif n % 2 == 0:\n",
    "    print(f'Number {n} is even but not divisible by 3')"
   ]
  }
 ],
 "metadata": {
  "kernelspec": {
   "display_name": "Python 3 (ipykernel)",
   "language": "python",
   "name": "python3"
  },
  "language_info": {
   "codemirror_mode": {
    "name": "ipython",
    "version": 3
   },
   "file_extension": ".py",
   "mimetype": "text/x-python",
   "name": "python",
   "nbconvert_exporter": "python",
   "pygments_lexer": "ipython3",
   "version": "3.9.13"
  }
 },
 "nbformat": 4,
 "nbformat_minor": 5
}
