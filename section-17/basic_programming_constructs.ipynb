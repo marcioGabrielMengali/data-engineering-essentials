{
 "cells": [
  {
   "cell_type": "markdown",
   "id": "ccb0e497",
   "metadata": {},
   "source": [
    "# HELP"
   ]
  },
  {
   "cell_type": "code",
   "execution_count": 6,
   "id": "a0b0a84e",
   "metadata": {},
   "outputs": [
    {
     "name": "stdout",
     "output_type": "stream",
     "text": [
      "Help on method_descriptor:\n",
      "\n",
      "split(self, /, sep=None, maxsplit=-1)\n",
      "    Return a list of the words in the string, using sep as the delimiter string.\n",
      "    \n",
      "    sep\n",
      "      The delimiter according which to split the string.\n",
      "      None (the default value) means split according to any whitespace,\n",
      "      and discard empty strings from the result.\n",
      "    maxsplit\n",
      "      Maximum number of splits to do.\n",
      "      -1 (the default value) means no limit.\n",
      "\n"
     ]
    }
   ],
   "source": [
    "help(str.split)"
   ]
  },
  {
   "cell_type": "code",
   "execution_count": 7,
   "id": "1191c08f",
   "metadata": {},
   "outputs": [],
   "source": [
    "#str.lstrip?"
   ]
  },
  {
   "cell_type": "markdown",
   "id": "55014fac",
   "metadata": {},
   "source": [
    "# VARIABLES AND ONJECTS"
   ]
  },
  {
   "cell_type": "code",
   "execution_count": 8,
   "id": "0371d08f",
   "metadata": {},
   "outputs": [],
   "source": [
    "i = 10"
   ]
  },
  {
   "cell_type": "code",
   "execution_count": 9,
   "id": "01165d67",
   "metadata": {},
   "outputs": [
    {
     "data": {
      "text/plain": [
       "int"
      ]
     },
     "execution_count": 9,
     "metadata": {},
     "output_type": "execute_result"
    }
   ],
   "source": [
    "type(i)"
   ]
  },
  {
   "cell_type": "code",
   "execution_count": 10,
   "id": "01701e2b",
   "metadata": {},
   "outputs": [
    {
     "data": {
      "text/plain": [
       "True"
      ]
     },
     "execution_count": 10,
     "metadata": {},
     "output_type": "execute_result"
    }
   ],
   "source": [
    "type(i) == int"
   ]
  },
  {
   "cell_type": "markdown",
   "id": "7058073d",
   "metadata": {},
   "source": [
    "# CONDITIONALS"
   ]
  },
  {
   "cell_type": "code",
   "execution_count": 12,
   "id": "cc6d7446",
   "metadata": {},
   "outputs": [],
   "source": [
    "i = 5"
   ]
  },
  {
   "cell_type": "code",
   "execution_count": 13,
   "id": "0a481135",
   "metadata": {},
   "outputs": [
    {
     "name": "stdout",
     "output_type": "stream",
     "text": [
      "odd\n"
     ]
    }
   ],
   "source": [
    "if i%2 == 0:\n",
    "    print('even')\n",
    "else:\n",
    "    print('odd')"
   ]
  },
  {
   "cell_type": "code",
   "execution_count": 14,
   "id": "8f798ddc",
   "metadata": {},
   "outputs": [
    {
     "name": "stdout",
     "output_type": "stream",
     "text": [
      "odd\n"
     ]
    }
   ],
   "source": [
    "#Ternary Operator\n",
    "print('even') if i%2 == 0 else print('odd')"
   ]
  },
  {
   "cell_type": "code",
   "execution_count": 29,
   "id": "7efe769a",
   "metadata": {},
   "outputs": [
    {
     "name": "stdout",
     "output_type": "stream",
     "text": [
      "Enter a integer: 5\n"
     ]
    }
   ],
   "source": [
    "i  = int(input('Enter a integer: '))"
   ]
  },
  {
   "cell_type": "code",
   "execution_count": 30,
   "id": "35950845",
   "metadata": {},
   "outputs": [
    {
     "name": "stdout",
     "output_type": "stream",
     "text": [
      "odd 5\n"
     ]
    }
   ],
   "source": [
    "if i == 0:\n",
    "    print('Zero')\n",
    "elif i%2 == 0:\n",
    "    print(f'even {i}')\n",
    "else:\n",
    "    print(f'odd {i}')"
   ]
  },
  {
   "cell_type": "code",
   "execution_count": 32,
   "id": "ccead1cd",
   "metadata": {},
   "outputs": [
    {
     "name": "stdout",
     "output_type": "stream",
     "text": [
      "None\n"
     ]
    }
   ],
   "source": [
    "n = None\n",
    "print('Not None') if n else print(n)"
   ]
  },
  {
   "cell_type": "markdown",
   "id": "06c9b208",
   "metadata": {},
   "source": [
    "## TASK 1"
   ]
  },
  {
   "cell_type": "code",
   "execution_count": 33,
   "id": "e589a8ec",
   "metadata": {},
   "outputs": [
    {
     "name": "stdout",
     "output_type": "stream",
     "text": [
      "Enter age in months: 8\n"
     ]
    }
   ],
   "source": [
    "age = int(input('Enter age in months: '))"
   ]
  },
  {
   "cell_type": "code",
   "execution_count": 34,
   "id": "1357be89",
   "metadata": {},
   "outputs": [
    {
     "name": "stdout",
     "output_type": "stream",
     "text": [
      "Toddler\n"
     ]
    }
   ],
   "source": [
    "if age <= 6:\n",
    "    print('New Born or Infant')\n",
    "elif age > 6 and age <= 18:\n",
    "    print('Toddler')\n",
    "elif age > 18 and age <= 144:\n",
    "    print('Grown up')\n",
    "elif age > 144 and age <= 216:\n",
    "    print('Youth')\n",
    "else:\n",
    "    print('Adult')"
   ]
  },
  {
   "cell_type": "markdown",
   "id": "e87cf3ac",
   "metadata": {},
   "source": [
    "# TASK 2"
   ]
  },
  {
   "cell_type": "code",
   "execution_count": 35,
   "id": "a12ae624",
   "metadata": {},
   "outputs": [
    {
     "name": "stdout",
     "output_type": "stream",
     "text": [
      "Enter integer: 10\n"
     ]
    }
   ],
   "source": [
    "n = int(input('Enter integer: '))"
   ]
  },
  {
   "cell_type": "code",
   "execution_count": 36,
   "id": "3ca71c0a",
   "metadata": {},
   "outputs": [
    {
     "name": "stdout",
     "output_type": "stream",
     "text": [
      "Number 10 is even or divisible by 3\n"
     ]
    }
   ],
   "source": [
    "if n % 2 == 0 or n % 3 == 0:\n",
    "    print(f'Number {n} is even or divisible by 3')"
   ]
  },
  {
   "cell_type": "markdown",
   "id": "2b54e69a",
   "metadata": {},
   "source": [
    "# TASK 3"
   ]
  },
  {
   "cell_type": "code",
   "execution_count": 37,
   "id": "c1344821",
   "metadata": {},
   "outputs": [
    {
     "name": "stdout",
     "output_type": "stream",
     "text": [
      "Enter integer: 8\n"
     ]
    }
   ],
   "source": [
    "n = int(input('Enter integer: '))"
   ]
  },
  {
   "cell_type": "code",
   "execution_count": 38,
   "id": "ddc47eee",
   "metadata": {},
   "outputs": [
    {
     "name": "stdout",
     "output_type": "stream",
     "text": [
      "Number 8 is even but not divisible by 3\n"
     ]
    }
   ],
   "source": [
    "if n % 2 == 0 and n % 3 == 0:\n",
    "    print(f'Number {n} is even and divisible by 3')\n",
    "elif n % 3 == 0:\n",
    "    print(f'Number {n} is divisible by 3 but not even')\n",
    "elif n % 2 == 0:\n",
    "    print(f'Number {n} is even but not divisible by 3')"
   ]
  },
  {
   "cell_type": "markdown",
   "id": "d1bd957f",
   "metadata": {},
   "source": [
    "# LOOPS"
   ]
  },
  {
   "cell_type": "code",
   "execution_count": 1,
   "id": "4a01b3f7",
   "metadata": {},
   "outputs": [
    {
     "data": {
      "text/plain": [
       "range(5, 11)"
      ]
     },
     "execution_count": 1,
     "metadata": {},
     "output_type": "execute_result"
    }
   ],
   "source": [
    "range(5,11)"
   ]
  },
  {
   "cell_type": "code",
   "execution_count": 2,
   "id": "27fe48b6",
   "metadata": {},
   "outputs": [
    {
     "data": {
      "text/plain": [
       "[5, 6, 7, 8, 9, 10]"
      ]
     },
     "execution_count": 2,
     "metadata": {},
     "output_type": "execute_result"
    }
   ],
   "source": [
    "list(range(5,11))"
   ]
  },
  {
   "cell_type": "code",
   "execution_count": 3,
   "id": "f528b75c",
   "metadata": {},
   "outputs": [
    {
     "data": {
      "text/plain": [
       "[5, 7, 9]"
      ]
     },
     "execution_count": 3,
     "metadata": {},
     "output_type": "execute_result"
    }
   ],
   "source": [
    "list(range(5,11,2))"
   ]
  },
  {
   "cell_type": "code",
   "execution_count": 5,
   "id": "8d5cd6df",
   "metadata": {},
   "outputs": [
    {
     "name": "stdout",
     "output_type": "stream",
     "text": [
      "5\n",
      "6\n",
      "7\n",
      "8\n",
      "9\n",
      "10\n"
     ]
    }
   ],
   "source": [
    "for i in range(5,11): print(i)"
   ]
  },
  {
   "cell_type": "code",
   "execution_count": 6,
   "id": "c6c8fa9c",
   "metadata": {},
   "outputs": [
    {
     "name": "stdout",
     "output_type": "stream",
     "text": [
      "1\n",
      "8\n",
      "7\n",
      "9\n"
     ]
    }
   ],
   "source": [
    "l = [1, 6, 8, 3, 7, 2, 9]\n",
    "cnt = 0\n",
    "for i in l:\n",
    "    if cnt % 2 == 0: # checking if cnt is even or not\n",
    "        print(i)\n",
    "    cnt += 1 # incrementing cnt by 1"
   ]
  },
  {
   "cell_type": "code",
   "execution_count": 7,
   "id": "eebfb2c8",
   "metadata": {},
   "outputs": [
    {
     "data": {
      "text/plain": [
       "['',\n",
       " 'January',\n",
       " 'February',\n",
       " 'March',\n",
       " 'April',\n",
       " 'May',\n",
       " 'June',\n",
       " 'July',\n",
       " 'August',\n",
       " 'September',\n",
       " 'October',\n",
       " 'November',\n",
       " 'December']"
      ]
     },
     "execution_count": 7,
     "metadata": {},
     "output_type": "execute_result"
    }
   ],
   "source": [
    "import calendar\n",
    "list(calendar.month_name)"
   ]
  },
  {
   "cell_type": "markdown",
   "id": "9a7aead6",
   "metadata": {},
   "source": [
    "# Running OS Commands"
   ]
  },
  {
   "cell_type": "code",
   "execution_count": 9,
   "id": "ccda8100",
   "metadata": {},
   "outputs": [],
   "source": [
    "import os"
   ]
  },
  {
   "cell_type": "code",
   "execution_count": 11,
   "id": "02421cff",
   "metadata": {},
   "outputs": [
    {
     "data": {
      "text/plain": [
       "'/home/marciogabriel/Desktop/data_engineering/data-engineering-essentials/section-17'"
      ]
     },
     "execution_count": 11,
     "metadata": {},
     "output_type": "execute_result"
    }
   ],
   "source": [
    "os.getcwd()"
   ]
  },
  {
   "cell_type": "code",
   "execution_count": 12,
   "id": "d898a848",
   "metadata": {},
   "outputs": [
    {
     "data": {
      "text/plain": [
       "'/home/marciogabriel/anaconda3/bin:/home/marciogabriel/anaconda3/condabin:/home/marciogabriel/.local/bin:/usr/local/sbin:/usr/local/bin:/usr/sbin:/usr/bin:/sbin:/bin:/usr/games:/usr/local/games:/snap/bin:/snap/bin'"
      ]
     },
     "execution_count": 12,
     "metadata": {},
     "output_type": "execute_result"
    }
   ],
   "source": [
    "os.environ.get('PATH')"
   ]
  },
  {
   "cell_type": "code",
   "execution_count": 13,
   "id": "2259c31e",
   "metadata": {},
   "outputs": [
    {
     "data": {
      "text/plain": [
       "'marciogabriel'"
      ]
     },
     "execution_count": 13,
     "metadata": {},
     "output_type": "execute_result"
    }
   ],
   "source": [
    "os.environ.get('USER')"
   ]
  },
  {
   "cell_type": "code",
   "execution_count": 17,
   "id": "8694a780",
   "metadata": {},
   "outputs": [
    {
     "data": {
      "text/plain": [
       "'/home/marciogabriel'"
      ]
     },
     "execution_count": 17,
     "metadata": {},
     "output_type": "execute_result"
    }
   ],
   "source": [
    "os.environ.get('HOME')"
   ]
  },
  {
   "cell_type": "code",
   "execution_count": 16,
   "id": "b9fe0722",
   "metadata": {},
   "outputs": [
    {
     "name": "stdout",
     "output_type": "stream",
     "text": [
      "LESSOPEN=| /usr/bin/lesspipe %s\n",
      "CONDA_PROMPT_MODIFIER=(base) \n",
      "QT_SCALE_FACTOR=1\n",
      "USER=marciogabriel\n",
      "LC_TIME=pt_BR.UTF-8\n",
      "MPLBACKEND=module://matplotlib_inline.backend_inline\n",
      "XDG_SESSION_TYPE=wayland\n",
      "SHLVL=2\n",
      "HOME=/home/marciogabriel\n",
      "CONDA_SHLVL=1\n",
      "DESKTOP_SESSION=ubuntu\n",
      "GNOME_SHELL_SESSION_MODE=ubuntu\n",
      "GTK_MODULES=gail:atk-bridge\n",
      "PAGER=cat\n",
      "LC_MONETARY=pt_BR.UTF-8\n",
      "LC_CTYPE=pt_BR.UTF-8\n",
      "SYSTEMD_EXEC_PID=2280\n",
      "DBUS_SESSION_BUS_ADDRESS=unix:path=/run/user/1000/bus\n",
      "COLORTERM=truecolor\n",
      "_CE_M=\n",
      "IM_CONFIG_PHASE=1\n",
      "WAYLAND_DISPLAY=wayland-0\n",
      "LOGNAME=marciogabriel\n",
      "CONDA_ROOT=/home/marciogabriel/anaconda3\n",
      "_=/home/marciogabriel/anaconda3/bin/jupyter-notebook\n",
      "XDG_SESSION_CLASS=user\n",
      "USERNAME=marciogabriel\n",
      "TERM=xterm-color\n",
      "GNOME_DESKTOP_SESSION_ID=this-is-deprecated\n",
      "_CE_CONDA=\n",
      "PATH=/home/marciogabriel/anaconda3/bin:/home/marciogabriel/anaconda3/condabin:/home/marciogabriel/.local/bin:/usr/local/sbin:/usr/local/bin:/usr/sbin:/usr/bin:/sbin:/bin:/usr/games:/usr/local/games:/snap/bin:/snap/bin\n",
      "SESSION_MANAGER=local/marciogabriel-VirtualBox:@/tmp/.ICE-unix/2049,unix/marciogabriel-VirtualBox:/tmp/.ICE-unix/2049\n",
      "XDG_MENU_PREFIX=gnome-\n",
      "LC_ADDRESS=pt_BR.UTF-8\n",
      "GNOME_TERMINAL_SCREEN=/org/gnome/Terminal/screen/2f6eb937_77f2_4dd1_9ed8_901b1962e65d\n",
      "GNOME_SETUP_DISPLAY=:1\n",
      "XDG_RUNTIME_DIR=/run/user/1000\n",
      "DISPLAY=:0\n",
      "LANG=en_US.UTF-8\n",
      "XDG_CURRENT_DESKTOP=ubuntu:GNOME\n",
      "LC_TELEPHONE=pt_BR.UTF-8\n",
      "XMODIFIERS=@im=ibus\n",
      "XDG_SESSION_DESKTOP=ubuntu\n",
      "XAUTHORITY=/run/user/1000/.mutter-Xwaylandauth.K6MAY1\n",
      "LS_COLORS=rs=0:di=01;34:ln=01;36:mh=00:pi=40;33:so=01;35:do=01;35:bd=40;33;01:cd=40;33;01:or=40;31;01:mi=00:su=37;41:sg=30;43:ca=30;41:tw=30;42:ow=34;42:st=37;44:ex=01;32:*.tar=01;31:*.tgz=01;31:*.arc=01;31:*.arj=01;31:*.taz=01;31:*.lha=01;31:*.lz4=01;31:*.lzh=01;31:*.lzma=01;31:*.tlz=01;31:*.txz=01;31:*.tzo=01;31:*.t7z=01;31:*.zip=01;31:*.z=01;31:*.dz=01;31:*.gz=01;31:*.lrz=01;31:*.lz=01;31:*.lzo=01;31:*.xz=01;31:*.zst=01;31:*.tzst=01;31:*.bz2=01;31:*.bz=01;31:*.tbz=01;31:*.tbz2=01;31:*.tz=01;31:*.deb=01;31:*.rpm=01;31:*.jar=01;31:*.war=01;31:*.ear=01;31:*.sar=01;31:*.rar=01;31:*.alz=01;31:*.ace=01;31:*.zoo=01;31:*.cpio=01;31:*.7z=01;31:*.rz=01;31:*.cab=01;31:*.wim=01;31:*.swm=01;31:*.dwm=01;31:*.esd=01;31:*.jpg=01;35:*.jpeg=01;35:*.mjpg=01;35:*.mjpeg=01;35:*.gif=01;35:*.bmp=01;35:*.pbm=01;35:*.pgm=01;35:*.ppm=01;35:*.tga=01;35:*.xbm=01;35:*.xpm=01;35:*.tif=01;35:*.tiff=01;35:*.png=01;35:*.svg=01;35:*.svgz=01;35:*.mng=01;35:*.pcx=01;35:*.mov=01;35:*.mpg=01;35:*.mpeg=01;35:*.m2v=01;35:*.mkv=01;35:*.webm=01;35:*.webp=01;35:*.ogm=01;35:*.mp4=01;35:*.m4v=01;35:*.mp4v=01;35:*.vob=01;35:*.qt=01;35:*.nuv=01;35:*.wmv=01;35:*.asf=01;35:*.rm=01;35:*.rmvb=01;35:*.flc=01;35:*.avi=01;35:*.fli=01;35:*.flv=01;35:*.gl=01;35:*.dl=01;35:*.xcf=01;35:*.xwd=01;35:*.yuv=01;35:*.cgm=01;35:*.emf=01;35:*.ogv=01;35:*.ogx=01;35:*.aac=00;36:*.au=00;36:*.flac=00;36:*.m4a=00;36:*.mid=00;36:*.midi=00;36:*.mka=00;36:*.mp3=00;36:*.mpc=00;36:*.ogg=00;36:*.ra=00;36:*.wav=00;36:*.oga=00;36:*.opus=00;36:*.spx=00;36:*.xspf=00;36:\n",
      "GNOME_TERMINAL_SERVICE=:1.111\n",
      "SSH_AGENT_LAUNCHER=gnome-keyring\n",
      "SSH_AUTH_SOCK=/run/user/1000/keyring/ssh\n",
      "CONDA_PYTHON_EXE=/home/marciogabriel/anaconda3/bin/python\n",
      "SHELL=/bin/bash\n",
      "LC_NAME=pt_BR.UTF-8\n",
      "QT_ACCESSIBILITY=1\n",
      "GDMSESSION=ubuntu\n",
      "LESSCLOSE=/usr/bin/lesspipe %s %s\n",
      "CONDA_DEFAULT_ENV=base\n",
      "LC_MEASUREMENT=pt_BR.UTF-8\n",
      "LC_IDENTIFICATION=pt_BR.UTF-8\n",
      "QT_IM_MODULE=ibus\n",
      "GIT_PAGER=cat\n",
      "JAVA_HOME=/usr/lib/jvm/java-11-openjdk-amd64\n",
      "PWD=/home/marciogabriel/Desktop/data_engineering/data-engineering-essentials/section-17\n",
      "CLICOLOR=1\n",
      "XDG_CONFIG_DIRS=/etc/xdg/xdg-ubuntu:/etc/xdg\n",
      "CONDA_EXE=/home/marciogabriel/anaconda3/bin/conda\n",
      "XDG_DATA_DIRS=/usr/share/ubuntu:/usr/local/share/:/usr/share/:/var/lib/snapd/desktop\n",
      "JPY_PARENT_PID=3221\n",
      "LC_NUMERIC=pt_BR.UTF-8\n",
      "PYDEVD_USE_FRAME_EVAL=NO\n",
      "CONDA_PREFIX=/home/marciogabriel/anaconda3\n",
      "LC_PAPER=pt_BR.UTF-8\n",
      "VTE_VERSION=6800\n"
     ]
    }
   ],
   "source": [
    "%%sh\n",
    "\n",
    "env"
   ]
  },
  {
   "cell_type": "code",
   "execution_count": 18,
   "id": "5861fc1b",
   "metadata": {},
   "outputs": [],
   "source": [
    "os.environ.get?"
   ]
  },
  {
   "cell_type": "code",
   "execution_count": 19,
   "id": "8a806ce0",
   "metadata": {},
   "outputs": [],
   "source": [
    "import subprocess"
   ]
  },
  {
   "cell_type": "code",
   "execution_count": 20,
   "id": "0646581c",
   "metadata": {},
   "outputs": [],
   "source": [
    "output = subprocess.check_output(['ls','-ltr'])"
   ]
  },
  {
   "cell_type": "code",
   "execution_count": 21,
   "id": "c470c93a",
   "metadata": {},
   "outputs": [
    {
     "name": "stdout",
     "output_type": "stream",
     "text": [
      "b'total 20\\n-rw-rw-r-- 1 marciogabriel marciogabriel 16988 jan  8 18:49 basic_programming_constructs.ipynb\\n'\n"
     ]
    }
   ],
   "source": [
    "print(output)"
   ]
  }
 ],
 "metadata": {
  "kernelspec": {
   "display_name": "Python 3 (ipykernel)",
   "language": "python",
   "name": "python3"
  },
  "language_info": {
   "codemirror_mode": {
    "name": "ipython",
    "version": 3
   },
   "file_extension": ".py",
   "mimetype": "text/x-python",
   "name": "python",
   "nbconvert_exporter": "python",
   "pygments_lexer": "ipython3",
   "version": "3.9.13"
  }
 },
 "nbformat": 4,
 "nbformat_minor": 5
}
