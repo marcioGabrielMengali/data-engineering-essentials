{
 "cells": [
  {
   "cell_type": "markdown",
   "id": "e00c0448",
   "metadata": {},
   "source": [
    "# Numeric Functions"
   ]
  },
  {
   "cell_type": "code",
   "execution_count": 1,
   "id": "31ba0111",
   "metadata": {},
   "outputs": [
    {
     "data": {
      "text/plain": [
       "9"
      ]
     },
     "execution_count": 1,
     "metadata": {},
     "output_type": "execute_result"
    }
   ],
   "source": [
    "4 + 5"
   ]
  },
  {
   "cell_type": "code",
   "execution_count": 2,
   "id": "eb02c90d",
   "metadata": {},
   "outputs": [
    {
     "data": {
      "text/plain": [
       "1"
      ]
     },
     "execution_count": 2,
     "metadata": {},
     "output_type": "execute_result"
    }
   ],
   "source": [
    "5 % 4"
   ]
  },
  {
   "cell_type": "code",
   "execution_count": 3,
   "id": "c7ea9a86",
   "metadata": {},
   "outputs": [],
   "source": [
    "import operator\n",
    "from operator import add, sub, mul, truediv"
   ]
  },
  {
   "cell_type": "code",
   "execution_count": 4,
   "id": "497ebce2",
   "metadata": {},
   "outputs": [],
   "source": [
    "add?"
   ]
  },
  {
   "cell_type": "code",
   "execution_count": 5,
   "id": "441ddb8f",
   "metadata": {},
   "outputs": [
    {
     "data": {
      "text/plain": [
       "9"
      ]
     },
     "execution_count": 5,
     "metadata": {},
     "output_type": "execute_result"
    }
   ],
   "source": [
    "add(4,5)"
   ]
  },
  {
   "cell_type": "code",
   "execution_count": 6,
   "id": "96d86c71",
   "metadata": {},
   "outputs": [
    {
     "data": {
      "text/plain": [
       "0.8"
      ]
     },
     "execution_count": 6,
     "metadata": {},
     "output_type": "execute_result"
    }
   ],
   "source": [
    "truediv(4,5)"
   ]
  },
  {
   "cell_type": "code",
   "execution_count": 7,
   "id": "5231c52f",
   "metadata": {},
   "outputs": [
    {
     "data": {
      "text/plain": [
       "1"
      ]
     },
     "execution_count": 7,
     "metadata": {},
     "output_type": "execute_result"
    }
   ],
   "source": [
    "from operator import mod\n",
    "mod(5,4)"
   ]
  },
  {
   "cell_type": "code",
   "execution_count": 8,
   "id": "cd2104aa",
   "metadata": {},
   "outputs": [
    {
     "data": {
      "text/plain": [
       "8"
      ]
     },
     "execution_count": 8,
     "metadata": {},
     "output_type": "execute_result"
    }
   ],
   "source": [
    "pow(2,3)"
   ]
  },
  {
   "cell_type": "code",
   "execution_count": 10,
   "id": "36315dac",
   "metadata": {},
   "outputs": [],
   "source": [
    "import math"
   ]
  },
  {
   "cell_type": "code",
   "execution_count": 11,
   "id": "cf2d1b85",
   "metadata": {},
   "outputs": [
    {
     "data": {
      "text/plain": [
       "5"
      ]
     },
     "execution_count": 11,
     "metadata": {},
     "output_type": "execute_result"
    }
   ],
   "source": [
    "math.ceil(4.4)"
   ]
  },
  {
   "cell_type": "code",
   "execution_count": 12,
   "id": "32d0746c",
   "metadata": {},
   "outputs": [
    {
     "data": {
      "text/plain": [
       "4"
      ]
     },
     "execution_count": 12,
     "metadata": {},
     "output_type": "execute_result"
    }
   ],
   "source": [
    "math.floor(4.7)"
   ]
  },
  {
   "cell_type": "code",
   "execution_count": 13,
   "id": "5f3bdb75",
   "metadata": {},
   "outputs": [
    {
     "data": {
      "text/plain": [
       "1.4142135623730951"
      ]
     },
     "execution_count": 13,
     "metadata": {},
     "output_type": "execute_result"
    }
   ],
   "source": [
    "math.sqrt(2)"
   ]
  },
  {
   "cell_type": "code",
   "execution_count": 14,
   "id": "1b3d15e3",
   "metadata": {},
   "outputs": [
    {
     "data": {
      "text/plain": [
       "4.7"
      ]
     },
     "execution_count": 14,
     "metadata": {},
     "output_type": "execute_result"
    }
   ],
   "source": [
    "round(4.662,1)"
   ]
  },
  {
   "cell_type": "code",
   "execution_count": 15,
   "id": "75a0018e",
   "metadata": {},
   "outputs": [
    {
     "data": {
      "text/plain": [
       "4.66"
      ]
     },
     "execution_count": 15,
     "metadata": {},
     "output_type": "execute_result"
    }
   ],
   "source": [
    "round(4.662,2)"
   ]
  },
  {
   "cell_type": "code",
   "execution_count": 16,
   "id": "6d19d912",
   "metadata": {},
   "outputs": [
    {
     "data": {
      "text/plain": [
       "2"
      ]
     },
     "execution_count": 16,
     "metadata": {},
     "output_type": "execute_result"
    }
   ],
   "source": [
    "min(2,3)"
   ]
  },
  {
   "cell_type": "code",
   "execution_count": 17,
   "id": "c1a9522f",
   "metadata": {},
   "outputs": [
    {
     "data": {
      "text/plain": [
       "5"
      ]
     },
     "execution_count": 17,
     "metadata": {},
     "output_type": "execute_result"
    }
   ],
   "source": [
    "max(2,3,5,1)"
   ]
  },
  {
   "cell_type": "markdown",
   "id": "a998a7b9",
   "metadata": {},
   "source": [
    "# Strings"
   ]
  },
  {
   "cell_type": "code",
   "execution_count": 19,
   "id": "bc2ebf38",
   "metadata": {},
   "outputs": [],
   "source": [
    "s = 'Hello World'"
   ]
  },
  {
   "cell_type": "code",
   "execution_count": 24,
   "id": "e6a66de3",
   "metadata": {},
   "outputs": [
    {
     "data": {
      "text/plain": [
       "str"
      ]
     },
     "execution_count": 24,
     "metadata": {},
     "output_type": "execute_result"
    }
   ],
   "source": [
    "type(s)"
   ]
  },
  {
   "cell_type": "code",
   "execution_count": 20,
   "id": "adf12307",
   "metadata": {},
   "outputs": [
    {
     "data": {
      "text/plain": [
       "'Hello'"
      ]
     },
     "execution_count": 20,
     "metadata": {},
     "output_type": "execute_result"
    }
   ],
   "source": [
    "s[:5]"
   ]
  },
  {
   "cell_type": "code",
   "execution_count": 21,
   "id": "73370e05",
   "metadata": {},
   "outputs": [
    {
     "data": {
      "text/plain": [
       "'World'"
      ]
     },
     "execution_count": 21,
     "metadata": {},
     "output_type": "execute_result"
    }
   ],
   "source": [
    "s[-5:]"
   ]
  },
  {
   "cell_type": "code",
   "execution_count": 23,
   "id": "6bdaa6db",
   "metadata": {},
   "outputs": [
    {
     "data": {
      "text/plain": [
       "11"
      ]
     },
     "execution_count": 23,
     "metadata": {},
     "output_type": "execute_result"
    }
   ],
   "source": [
    "len(s)"
   ]
  },
  {
   "cell_type": "code",
   "execution_count": 22,
   "id": "09f6219e",
   "metadata": {},
   "outputs": [
    {
     "data": {
      "text/plain": [
       "[' ', 'H', 'W', 'd', 'e', 'l', 'l', 'l', 'o', 'o', 'r']"
      ]
     },
     "execution_count": 22,
     "metadata": {},
     "output_type": "execute_result"
    }
   ],
   "source": [
    "sorted(s)"
   ]
  },
  {
   "cell_type": "code",
   "execution_count": 25,
   "id": "2530ee81",
   "metadata": {},
   "outputs": [],
   "source": [
    "user = '1,123 456 789,Scott,Tiger,1989-08-15,+1 415 891 9002,Forrest City,Texas,75063'"
   ]
  },
  {
   "cell_type": "code",
   "execution_count": 26,
   "id": "9ad3bf91",
   "metadata": {},
   "outputs": [
    {
     "data": {
      "text/plain": [
       "str"
      ]
     },
     "execution_count": 26,
     "metadata": {},
     "output_type": "execute_result"
    }
   ],
   "source": [
    "type(user)"
   ]
  },
  {
   "cell_type": "code",
   "execution_count": 27,
   "id": "e7a54412",
   "metadata": {},
   "outputs": [
    {
     "data": {
      "text/plain": [
       "['1',\n",
       " '123 456 789',\n",
       " 'Scott',\n",
       " 'Tiger',\n",
       " '1989-08-15',\n",
       " '+1 415 891 9002',\n",
       " 'Forrest City',\n",
       " 'Texas',\n",
       " '75063']"
      ]
     },
     "execution_count": 27,
     "metadata": {},
     "output_type": "execute_result"
    }
   ],
   "source": [
    "user.split(',')"
   ]
  },
  {
   "cell_type": "code",
   "execution_count": 28,
   "id": "8c2015bb",
   "metadata": {},
   "outputs": [],
   "source": [
    "first_name = user.split(',')[2]"
   ]
  },
  {
   "cell_type": "code",
   "execution_count": 29,
   "id": "cd066cc9",
   "metadata": {},
   "outputs": [
    {
     "data": {
      "text/plain": [
       "'SCOTT'"
      ]
     },
     "execution_count": 29,
     "metadata": {},
     "output_type": "execute_result"
    }
   ],
   "source": [
    "first_name.upper()"
   ]
  },
  {
   "cell_type": "code",
   "execution_count": 30,
   "id": "89eaf7af",
   "metadata": {},
   "outputs": [
    {
     "data": {
      "text/plain": [
       "'scott'"
      ]
     },
     "execution_count": 30,
     "metadata": {},
     "output_type": "execute_result"
    }
   ],
   "source": [
    "first_name.lower()"
   ]
  },
  {
   "cell_type": "code",
   "execution_count": 31,
   "id": "3af23380",
   "metadata": {},
   "outputs": [],
   "source": [
    "last_name = user.split(',')[3]"
   ]
  },
  {
   "cell_type": "code",
   "execution_count": 32,
   "id": "91e2dc04",
   "metadata": {},
   "outputs": [
    {
     "data": {
      "text/plain": [
       "'Scott tiger'"
      ]
     },
     "execution_count": 32,
     "metadata": {},
     "output_type": "execute_result"
    }
   ],
   "source": [
    "full_name = (first_name + ' ' + last_name).capitalize()\n",
    "full_name"
   ]
  },
  {
   "cell_type": "code",
   "execution_count": 33,
   "id": "a84e85a5",
   "metadata": {},
   "outputs": [],
   "source": [
    "dob = user.split(',')[4]"
   ]
  },
  {
   "cell_type": "code",
   "execution_count": 34,
   "id": "86b8c4a0",
   "metadata": {},
   "outputs": [
    {
     "data": {
      "text/plain": [
       "'1989'"
      ]
     },
     "execution_count": 34,
     "metadata": {},
     "output_type": "execute_result"
    }
   ],
   "source": [
    "dob[0:4]"
   ]
  },
  {
   "cell_type": "code",
   "execution_count": 35,
   "id": "0e81b1ca",
   "metadata": {},
   "outputs": [
    {
     "data": {
      "text/plain": [
       "'1989'"
      ]
     },
     "execution_count": 35,
     "metadata": {},
     "output_type": "execute_result"
    }
   ],
   "source": [
    "dob[:4]"
   ]
  },
  {
   "cell_type": "code",
   "execution_count": 37,
   "id": "0d50a3f1",
   "metadata": {},
   "outputs": [
    {
     "data": {
      "text/plain": [
       "'15'"
      ]
     },
     "execution_count": 37,
     "metadata": {},
     "output_type": "execute_result"
    }
   ],
   "source": [
    "dob[-2:]"
   ]
  },
  {
   "cell_type": "code",
   "execution_count": 38,
   "id": "5a5a8bc0",
   "metadata": {},
   "outputs": [
    {
     "data": {
      "text/plain": [
       "1989"
      ]
     },
     "execution_count": 38,
     "metadata": {},
     "output_type": "execute_result"
    }
   ],
   "source": [
    "# Convert year part to integer\n",
    "int(dob[0:4])"
   ]
  },
  {
   "cell_type": "code",
   "execution_count": 39,
   "id": "cd52222e",
   "metadata": {},
   "outputs": [
    {
     "data": {
      "text/plain": [
       "datetime.datetime(1989, 8, 15, 0, 0)"
      ]
     },
     "execution_count": 39,
     "metadata": {},
     "output_type": "execute_result"
    }
   ],
   "source": [
    "# Convert date to date type\n",
    "import datetime\n",
    "datetime.datetime.strptime(user.split(',')[4], '%Y-%m-%d')"
   ]
  },
  {
   "cell_type": "code",
   "execution_count": 40,
   "id": "603a9988",
   "metadata": {},
   "outputs": [],
   "source": [
    "d = datetime.datetime.strptime(user.split(',')[4], '%Y-%m-%d')"
   ]
  },
  {
   "cell_type": "code",
   "execution_count": 41,
   "id": "9fe79583",
   "metadata": {},
   "outputs": [
    {
     "data": {
      "text/plain": [
       "datetime.datetime"
      ]
     },
     "execution_count": 41,
     "metadata": {},
     "output_type": "execute_result"
    }
   ],
   "source": [
    "type(d)"
   ]
  },
  {
   "cell_type": "code",
   "execution_count": 42,
   "id": "1bbb0ded",
   "metadata": {},
   "outputs": [
    {
     "name": "stdout",
     "output_type": "stream",
     "text": [
      "Hello, World - How are you?\n"
     ]
    }
   ],
   "source": [
    "print('Hello', 'World', sep=', ', end=' - ')\n",
    "print('How', 'are', 'you?')"
   ]
  }
 ],
 "metadata": {
  "kernelspec": {
   "display_name": "Python 3 (ipykernel)",
   "language": "python",
   "name": "python3"
  },
  "language_info": {
   "codemirror_mode": {
    "name": "ipython",
    "version": 3
   },
   "file_extension": ".py",
   "mimetype": "text/x-python",
   "name": "python",
   "nbconvert_exporter": "python",
   "pygments_lexer": "ipython3",
   "version": "3.9.13"
  }
 },
 "nbformat": 4,
 "nbformat_minor": 5
}
